{
 "cells": [
  {
   "cell_type": "code",
   "execution_count": 2,
   "id": "5394e9f6",
   "metadata": {},
   "outputs": [
    {
     "name": "stdout",
     "output_type": "stream",
     "text": [
      "1 \n",
      "1 2 \n",
      "1 2 3 \n",
      "1 2 3 4 \n",
      "1 2 3 4 5 \n"
     ]
    }
   ],
   "source": [
    "###1.\n",
    "for i in range(1,6):\n",
    "    for j in range(1,i+1):\n",
    "        print(j,end=\" \")\n",
    "    print()\n"
   ]
  },
  {
   "cell_type": "code",
   "execution_count": 4,
   "id": "dbca963f",
   "metadata": {},
   "outputs": [
    {
     "name": "stdout",
     "output_type": "stream",
     "text": [
      "A \n",
      "A B \n",
      "A B C \n",
      "A B C D \n",
      "A B C D E \n"
     ]
    }
   ],
   "source": [
    "####2.\n",
    "for i in range(65,70):\n",
    "    for j in range(65,i+1):\n",
    "        print(chr(j),end=\" \")\n",
    "    print()"
   ]
  },
  {
   "cell_type": "code",
   "execution_count": 7,
   "id": "abc84e6d",
   "metadata": {},
   "outputs": [
    {
     "name": "stdout",
     "output_type": "stream",
     "text": [
      "*\n",
      "**\n",
      "***\n",
      "****\n",
      "*****\n"
     ]
    }
   ],
   "source": [
    "####3.\n",
    "for i in range(1,6):\n",
    "    print(i*\"*\")\n",
    "\n",
    "    "
   ]
  },
  {
   "cell_type": "code",
   "execution_count": 9,
   "id": "72f107d9",
   "metadata": {},
   "outputs": [
    {
     "name": "stdout",
     "output_type": "stream",
     "text": [
      "1 \n",
      "2 2 \n",
      "3 3 3 \n",
      "4 4 4 4 \n",
      "5 5 5 5 5 \n"
     ]
    }
   ],
   "source": [
    "####4.\n",
    "for i in range(1,6):\n",
    "    for j in range(1,i+1):\n",
    "        print(i,end=\" \")\n",
    "    print()"
   ]
  },
  {
   "cell_type": "code",
   "execution_count": 11,
   "id": "260c1640",
   "metadata": {},
   "outputs": [
    {
     "name": "stdout",
     "output_type": "stream",
     "text": [
      "A \n",
      "B B \n",
      "C C C \n",
      "D D D D \n",
      "E E E E E \n"
     ]
    }
   ],
   "source": [
    "####5.\n",
    "for i in range(65,70):\n",
    "    for j in range(65,i+1):\n",
    "        print(chr(i),end=\" \")\n",
    "    print()"
   ]
  },
  {
   "cell_type": "code",
   "execution_count": 13,
   "id": "eccf7896",
   "metadata": {},
   "outputs": [
    {
     "name": "stdout",
     "output_type": "stream",
     "text": [
      "     *\n",
      "    **\n",
      "   ***\n",
      "  ****\n",
      " *****\n"
     ]
    }
   ],
   "source": [
    "#6.\n",
    "for i in range(1,6):\n",
    "    print((6-i)*\" \"+i*\"*\")"
   ]
  },
  {
   "cell_type": "code",
   "execution_count": 22,
   "id": "5be1860d",
   "metadata": {},
   "outputs": [
    {
     "name": "stdout",
     "output_type": "stream",
     "text": [
      "      1 \n",
      "     1 2 \n",
      "    1 2 3 \n",
      "   1 2 3 4 \n",
      "  1 2 3 4 5 \n"
     ]
    }
   ],
   "source": [
    "###7.\n",
    "for i in range(1,6):\n",
    "    print((6-i)*\" \",end=\" \")\n",
    "    for j in range(1,i+1):\n",
    "        print(j,end=\" \")\n",
    "    print()\n",
    "    "
   ]
  },
  {
   "cell_type": "code",
   "execution_count": 20,
   "id": "55eede0d",
   "metadata": {},
   "outputs": [
    {
     "name": "stdout",
     "output_type": "stream",
     "text": [
      "          5         \n",
      "         4 5        \n",
      "        3 4 5       \n",
      "       2 3 4 5      \n",
      "      1 2 3 4 5     \n"
     ]
    }
   ],
   "source": [
    "####8.\n",
    "data=\"\"\n",
    "for i in range(1,6):\n",
    "    data=\" \"+str(6-i)+data\n",
    "    print(data.center(20,\" \"))\n",
    "    "
   ]
  },
  {
   "cell_type": "code",
   "execution_count": 13,
   "id": "66bce6db",
   "metadata": {},
   "outputs": [
    {
     "name": "stdout",
     "output_type": "stream",
     "text": [
      "         A          \n",
      "        A B         \n",
      "       A B C        \n",
      "      A B C D       \n",
      "     A B C D E      \n"
     ]
    }
   ],
   "source": [
    "####9.\n",
    "data=\"\"\n",
    "for i in range(1,6):\n",
    "    data=data+chr(64+i)+\" \"\n",
    "    print(data.center(20,\" \"))"
   ]
  },
  {
   "cell_type": "code",
   "execution_count": 22,
   "id": "39b55277",
   "metadata": {},
   "outputs": [
    {
     "name": "stdout",
     "output_type": "stream",
     "text": [
      "          E         \n",
      "         D E        \n",
      "        C D E       \n",
      "       B C D E      \n",
      "      A B C D E     \n"
     ]
    }
   ],
   "source": [
    "####10.\n",
    "data=\"\"\n",
    "for i in range(1,6):\n",
    "    data=\" \"+chr(70-i)+data\n",
    "    print(data.center(20,\" \"))"
   ]
  },
  {
   "cell_type": "code",
   "execution_count": 61,
   "id": "20ffabbc",
   "metadata": {},
   "outputs": [
    {
     "name": "stdout",
     "output_type": "stream",
     "text": [
      "         *          \n",
      "        ***         \n",
      "       *****        \n",
      "      *******       \n",
      "     *********      \n"
     ]
    }
   ],
   "source": [
    "####11.\n",
    "for i in range(1,10,2):\n",
    "    str=i*\"*\"\n",
    "    print(str.center(20,\" \"))"
   ]
  },
  {
   "cell_type": "code",
   "execution_count": 62,
   "id": "bd5d09ae",
   "metadata": {},
   "outputs": [
    {
     "name": "stdout",
     "output_type": "stream",
     "text": [
      "      1 \n",
      "     2 2 \n",
      "    3 3 3 \n",
      "   4 4 4 4 \n",
      "  5 5 5 5 5 \n"
     ]
    }
   ],
   "source": [
    "####12.\n",
    "for i in range(1,6):\n",
    "    print((6-i)*\" \",end=\" \")\n",
    "    for j in range(1,i+1):\n",
    "        print(i,end=\" \")\n",
    "    print()"
   ]
  },
  {
   "cell_type": "code",
   "execution_count": 63,
   "id": "660a31b2",
   "metadata": {},
   "outputs": [
    {
     "name": "stdout",
     "output_type": "stream",
     "text": [
      "      A \n",
      "     B B \n",
      "    C C C \n",
      "   D D D D \n",
      "  E E E E E \n"
     ]
    }
   ],
   "source": [
    "#####13.\n",
    "for i in range(65,70):\n",
    "    print((70-i)*\" \",end=\" \")\n",
    "    for j in range(65,i+1):\n",
    "        print(chr(i),end=\" \")\n",
    "    print()\n",
    "    "
   ]
  },
  {
   "cell_type": "code",
   "execution_count": 39,
   "id": "f5a90067",
   "metadata": {},
   "outputs": [
    {
     "name": "stdout",
     "output_type": "stream",
     "text": [
      "1 2 3 4 5 \n",
      "1 2 3 4 \n",
      "1 2 3 \n",
      "1 2 \n",
      "1 \n"
     ]
    }
   ],
   "source": [
    "#####14.\n",
    "for i in range(1,6):\n",
    "    for j in range(1,7-i,1):\n",
    "        print(str(j),end=\" \")\n",
    "    print()"
   ]
  },
  {
   "cell_type": "code",
   "execution_count": 40,
   "id": "503401a7",
   "metadata": {},
   "outputs": [
    {
     "name": "stdout",
     "output_type": "stream",
     "text": [
      "5 4 3 2 1 \n",
      "4 3 2 1 \n",
      "3 2 1 \n",
      "2 1 \n",
      "1 \n"
     ]
    }
   ],
   "source": [
    "#####15.\n",
    "for i in range(1,6):\n",
    "    for j in range(6-i,0,-1):\n",
    "        print(str(j),end=\" \")\n",
    "    print()\n",
    "    "
   ]
  },
  {
   "cell_type": "code",
   "execution_count": 74,
   "id": "eac80efa",
   "metadata": {},
   "outputs": [
    {
     "name": "stdout",
     "output_type": "stream",
     "text": [
      "5 \n",
      "5 4 \n",
      "5 4 3 \n",
      "5 4 3 2 \n",
      "5 4 3 2 1 \n"
     ]
    }
   ],
   "source": [
    "###16.\n",
    "for i in range(1,6):\n",
    "    for j in range(5,5-i,-1):\n",
    "          print(j,end=\" \")\n",
    "    print()"
   ]
  },
  {
   "cell_type": "code",
   "execution_count": 77,
   "id": "befdc18b",
   "metadata": {},
   "outputs": [
    {
     "name": "stdout",
     "output_type": "stream",
     "text": [
      "1 \n",
      "2 3 \n",
      "4 5 6 \n",
      "7 8 9 10 \n",
      "11 12 13 14 15 \n"
     ]
    }
   ],
   "source": [
    "#####17.\n",
    "n=0\n",
    "for i in range(1,6):\n",
    "    for j in range(1,i+1):\n",
    "        n=n+1\n",
    "        print(n,end=\" \")\n",
    "    print()"
   ]
  },
  {
   "cell_type": "code",
   "execution_count": 42,
   "id": "0c9dcea0",
   "metadata": {},
   "outputs": [
    {
     "name": "stdout",
     "output_type": "stream",
     "text": [
      "A B C D E \n",
      "A B C D \n",
      "A B C \n",
      "A B \n",
      "A \n"
     ]
    }
   ],
   "source": [
    "####18.\n",
    "for i in range(6,1,-1):\n",
    "    data=\"\"\n",
    "    for j in range(1,i):\n",
    "        data=data+chr(64+j)+\" \"\n",
    "    print(data)"
   ]
  },
  {
   "cell_type": "code",
   "execution_count": 90,
   "id": "8a516b76",
   "metadata": {},
   "outputs": [
    {
     "name": "stdout",
     "output_type": "stream",
     "text": [
      "*****\n",
      "****\n",
      "***\n",
      "**\n",
      "*\n"
     ]
    }
   ],
   "source": [
    "###19.\n",
    "for i in range(5,0,-1):\n",
    "    print(i*\"*\")"
   ]
  },
  {
   "cell_type": "code",
   "execution_count": 92,
   "id": "e124a524",
   "metadata": {},
   "outputs": [
    {
     "name": "stdout",
     "output_type": "stream",
     "text": [
      " *****\n",
      "  ****\n",
      "   ***\n",
      "    **\n",
      "     *\n"
     ]
    }
   ],
   "source": [
    "####20.\n",
    "for i in range(5,0,-1):\n",
    "    print((6-i)*\" \"+i*\"*\")"
   ]
  },
  {
   "cell_type": "code",
   "execution_count": 54,
   "id": "b2b748c7",
   "metadata": {},
   "outputs": [
    {
     "name": "stdout",
     "output_type": "stream",
     "text": [
      "*\n",
      "**\n",
      "***\n",
      "****\n",
      "*****\n",
      "****\n",
      "***\n",
      "**\n",
      "*\n"
     ]
    }
   ],
   "source": [
    "###21.\n",
    "for i in range(1,6):\n",
    "    if i==5:\n",
    "        for j in range(6-1,0,-1):\n",
    "            print(j*\"*\")\n",
    "    else:\n",
    "        print(i*\"*\")\n",
    "    \n",
    "    \n"
   ]
  },
  {
   "cell_type": "code",
   "execution_count": 55,
   "id": "aaaa9bc4",
   "metadata": {},
   "outputs": [
    {
     "name": "stdout",
     "output_type": "stream",
     "text": [
      "******\n",
      "*****\n",
      "****\n",
      "***\n",
      "**\n",
      "*\n",
      "**\n",
      "***\n",
      "****\n",
      "*****\n",
      "******\n"
     ]
    }
   ],
   "source": [
    "####22.\n",
    "for i in range(6,0,-1):\n",
    "    if i==1:\n",
    "        for j in range(1,6+1):\n",
    "            print(j*\"*\")\n",
    "    else:\n",
    "        print(i*\"*\")\n",
    "    "
   ]
  },
  {
   "cell_type": "code",
   "execution_count": 57,
   "id": "dbfbb905",
   "metadata": {},
   "outputs": [
    {
     "name": "stdout",
     "output_type": "stream",
     "text": [
      "     *\n",
      "    **\n",
      "   ***\n",
      "  ****\n",
      " *****\n",
      "  ****\n",
      "   ***\n",
      "    **\n",
      "     *\n"
     ]
    }
   ],
   "source": [
    "###23.\n",
    "for i in range(1,6):\n",
    "    if i==5:\n",
    "        for j in range(6-1,0,-1):\n",
    "            print((6-j)*\" \"+j*\"*\")\n",
    "    else:\n",
    "            print((6-i)*\" \"+i*\"*\")"
   ]
  },
  {
   "cell_type": "code",
   "execution_count": 59,
   "id": "40c347ef",
   "metadata": {},
   "outputs": [
    {
     "name": "stdout",
     "output_type": "stream",
     "text": [
      "******\n",
      " *****\n",
      "  ****\n",
      "   ***\n",
      "    **\n",
      "     *\n",
      "    **\n",
      "   ***\n",
      "  ****\n",
      " *****\n",
      "******\n"
     ]
    }
   ],
   "source": [
    "####24.\n",
    "for i in range(6,0,-1):\n",
    "    if i==1:\n",
    "        for j in range(1,6+1):\n",
    "            print((6-j)*\" \"+j*\"*\")\n",
    "    else:\n",
    "        print((6-i)*\" \"+i*\"*\")\n",
    "    "
   ]
  },
  {
   "cell_type": "code",
   "execution_count": 130,
   "id": "6d1b08f9",
   "metadata": {},
   "outputs": [
    {
     "name": "stdout",
     "output_type": "stream",
     "text": [
      "         *          \n",
      "        ***         \n",
      "       *****        \n",
      "      *******       \n",
      "     *********      \n"
     ]
    }
   ],
   "source": [
    "####25.\n",
    "for i in range(1,10,2):\n",
    "    str=i*\"*\"\n",
    "    print(str.center(20,\" \"))"
   ]
  },
  {
   "cell_type": "code",
   "execution_count": 48,
   "id": "9ac205d6",
   "metadata": {},
   "outputs": [
    {
     "name": "stdout",
     "output_type": "stream",
     "text": [
      "     *********      \n",
      "      *******       \n",
      "       *****        \n",
      "        ***         \n",
      "         *          \n",
      "        ***         \n",
      "       *****        \n",
      "      *******       \n",
      "     *********      \n"
     ]
    }
   ],
   "source": [
    "####26.\n",
    "for i in range(1,10,2):\n",
    "    if i==1:\n",
    "        for j in range(10-1,0,-2):\n",
    "            string=j*\"*\"\n",
    "            print(string.center(20,\" \"))\n",
    "    else:\n",
    "        string=i*\"*\"\n",
    "        print(string.center(20,\" \"))\n",
    "      "
   ]
  },
  {
   "cell_type": "code",
   "execution_count": 49,
   "id": "273342b9",
   "metadata": {},
   "outputs": [
    {
     "name": "stdout",
     "output_type": "stream",
     "text": [
      "*        *\n",
      "**      **\n",
      "***    ***\n",
      "****  ****\n",
      "**********\n"
     ]
    }
   ],
   "source": [
    "####27.\n",
    "for i in range(1,6):\n",
    "    a=(6-(i+1))*\" \"+i*\"*\"\n",
    "    print(i*\"*\"+(6-(i+1))*\" \"+a)\n",
    "    "
   ]
  },
  {
   "cell_type": "code",
   "execution_count": 50,
   "id": "3fc6442b",
   "metadata": {},
   "outputs": [
    {
     "name": "stdout",
     "output_type": "stream",
     "text": [
      "************\n",
      "*****  *****\n",
      "****    ****\n",
      "***      ***\n",
      "**        **\n",
      "*          *\n"
     ]
    }
   ],
   "source": [
    "####28.\n",
    "for i in range(6,0,-1):\n",
    "    a=(6-i)*\" \"+i*\"*\"\n",
    "    print(i*\"*\"+(6-i)*\" \"+a)"
   ]
  },
  {
   "cell_type": "code",
   "execution_count": 24,
   "id": "3ef4c943",
   "metadata": {},
   "outputs": [
    {
     "name": "stdout",
     "output_type": "stream",
     "text": [
      "*        *\n",
      "**      **\n",
      "***    ***\n",
      "****  ****\n",
      "**********\n",
      "****  ****\n",
      "***    ***\n",
      "**      **\n",
      "*        *\n"
     ]
    }
   ],
   "source": [
    "#####29:\n",
    "for i in range(1,6):\n",
    "    if i!=6-1:\n",
    "        x=(6-(i+1))*\" \"+i*\"*\"\n",
    "        print(i*\"*\"+(6-(i+1))*\" \"+x)\n",
    "    else:\n",
    "        for i in range(6-1,0,-1):\n",
    "            x=(6-(i+1))*\" \"+i*\"*\"\n",
    "            print(i*\"*\"+(6-(i+1))*\" \"+x)\n"
   ]
  },
  {
   "cell_type": "code",
   "execution_count": 6,
   "id": "eb0755c3",
   "metadata": {},
   "outputs": [
    {
     "name": "stdout",
     "output_type": "stream",
     "text": [
      "**********\n",
      "****  ****\n",
      "***    ***\n",
      "**      **\n",
      "*        *\n",
      "*        *\n",
      "**      **\n",
      "***    ***\n",
      "****  ****\n",
      "**********\n"
     ]
    }
   ],
   "source": [
    "####30:\n",
    "for i in range(6-1,0,-1):\n",
    "    a=(6-(i+1))*\" \"+i*\"*\"\n",
    "    print(i*\"*\"+(6-(i+1))*\" \"+a)\n",
    "    if i==1:\n",
    "        for j in range(1,6):\n",
    "            a=(6-(j+1)) *\" \"+j * \"*\"\n",
    "            print(j *\"*\" +(6- (j+1)) * \" \" + a)"
   ]
  },
  {
   "cell_type": "code",
   "execution_count": 11,
   "id": "b3c10bbe",
   "metadata": {},
   "outputs": [
    {
     "name": "stdout",
     "output_type": "stream",
     "text": [
      "*\n",
      "**\n",
      "* *\n",
      "*  *\n",
      "*****\n"
     ]
    }
   ],
   "source": [
    "####32\n",
    "for i in range(1,6):\n",
    "    data=\"\"\n",
    "    if i==6-1:\n",
    "        data=data+i*\"*\"\n",
    "    else:\n",
    "        for j in range(1, i+1):\n",
    "            if j==1 or j==i:\n",
    "            data=data+\"*\"\n",
    "            else:\n",
    "                data=data+\" \"\n",
    "    print(data)       "
   ]
  },
  {
   "cell_type": "code",
   "execution_count": 12,
   "id": "48b797d7",
   "metadata": {},
   "outputs": [
    {
     "name": "stdout",
     "output_type": "stream",
     "text": [
      "*****\n",
      "*  *\n",
      "* *\n",
      "**\n",
      "*\n"
     ]
    }
   ],
   "source": [
    "####31.\n",
    "for i in range(6-1,0,-1):\n",
    "    data=\"\"\n",
    "    if i==6-1:\n",
    "        data=data+i*\"*\"\n",
    "    else:\n",
    "        for j in range(1, i+1):\n",
    "            if j==1 or j==i:\n",
    "                data=data+\"*\"\n",
    "            else:\n",
    "                data=data+\" \"\n",
    "    print(data)"
   ]
  },
  {
   "cell_type": "code",
   "execution_count": 16,
   "id": "f66b5c4d",
   "metadata": {},
   "outputs": [
    {
     "name": "stdout",
     "output_type": "stream",
     "text": [
      "     *\n",
      "    **\n",
      "   * *\n",
      "  *  *\n",
      " *****\n"
     ]
    }
   ],
   "source": [
    "#####33.\n",
    "for i in range(1,6):\n",
    "    data=\"\"\n",
    "    if i==6-1:\n",
    "        data=data+i*\"*\"\n",
    "    else:\n",
    "        for j in range(1, i+1):\n",
    "            if j==1 or j==i:\n",
    "                data=data+\"*\"\n",
    "            else:\n",
    "                data=data+\" \"\n",
    "    print((6-i)*\" \"+data)"
   ]
  },
  {
   "cell_type": "code",
   "execution_count": 36,
   "id": "96d6d31b",
   "metadata": {},
   "outputs": [
    {
     "name": "stdout",
     "output_type": "stream",
     "text": [
      "*****\n",
      "*  *\n",
      "* *\n",
      "**\n",
      "*\n",
      "**\n",
      "* *\n",
      "*  *\n",
      "*****\n"
     ]
    }
   ],
   "source": [
    "#####34.\n",
    "for i in range(1,6):\n",
    "    data=\"\"\n",
    "    if i==1:\n",
    "        \n",
    "        for k in range(6-1, 0, -1):\n",
    "            datak = \"\"\n",
    "            if k==6-1:\n",
    "                datak=datak+(6-1)*\"*\"\n",
    "            else:\n",
    "                for j in range(1, k+1):\n",
    "                    if j == 1 or j == k:\n",
    "                        datak=datak+ \"*\"\n",
    "                    else:\n",
    "                        datak = datak + \" \"\n",
    "            print(datak)\n",
    "    elif i==6-1:\n",
    "        data=data+i*\"*\"\n",
    "        print(data)\n",
    "    else:\n",
    "        for j in range(1, i+1):\n",
    "            if j==1 or j==i:\n",
    "                data=data+\"*\"\n",
    "            else:\n",
    "                data=data+\" \"\n",
    "        print(data)\n",
    "        "
   ]
  },
  {
   "cell_type": "code",
   "execution_count": 11,
   "id": "788295ae",
   "metadata": {},
   "outputs": [
    {
     "name": "stdout",
     "output_type": "stream",
     "text": [
      "     *\n",
      "    **\n",
      "   * *\n",
      "  *  *\n",
      " *   *\n",
      "  *  *\n",
      "   * *\n",
      "    **\n",
      "     *\n"
     ]
    }
   ],
   "source": [
    "####35.\n",
    "for i in range(1,6):\n",
    "    data=\"\"\n",
    "    if i==6-1:\n",
    "        for k in range(6-1,0,-1):\n",
    "            data=\"\"\n",
    "            for j in range(1, k+1):\n",
    "                if j==1 or j==k:\n",
    "                    data=data+\"*\"\n",
    "                else:\n",
    "                    data=data+\" \"\n",
    "            print((6-k)*\" \"+data)\n",
    "    else:\n",
    "            for j in range(1, i+1):\n",
    "                if j==1 or j==i:\n",
    "                    data=data+\"*\"\n",
    "                else:\n",
    "                    data=data+\" \"\n",
    "            print((6-i)*\" \"+data)"
   ]
  },
  {
   "cell_type": "code",
   "execution_count": 33,
   "id": "8ed6dd99",
   "metadata": {},
   "outputs": [
    {
     "name": "stdout",
     "output_type": "stream",
     "text": [
      "*****\n",
      " *  *\n",
      "  * *\n",
      "   **\n",
      "    *\n",
      "   **\n",
      "  * *\n",
      " *  *\n",
      "*****\n"
     ]
    }
   ],
   "source": [
    "#####36.\n",
    "for i in range(6-1,0,-1):\n",
    "    data=\"\"\n",
    "    if i==1:\n",
    "        for k in range(1, 6):\n",
    "            data= \"\"\n",
    "            if k == 6-1:\n",
    "                data = data + k * \"*\"\n",
    "            else:\n",
    "                for j in range(1, k + 1):\n",
    "                    if j == 1 or j == k:\n",
    "                        data = data + \"*\"\n",
    "                    else:\n",
    "                        data = data + \" \"\n",
    "            print((6-k-1) * \" \" + data)\n",
    "    elif i==6-1:\n",
    "            data=data+i*\"*\"\n",
    "            print((6-i-1)*\" \"+data)\n",
    "    else:\n",
    "            for j in range(1, i+1):\n",
    "                if j==1 or j==i:\n",
    "                    data=data+\"*\"\n",
    "                else:\n",
    "                    data=data+\" \"\n",
    "            print((6-i-1)*\" \"+data)"
   ]
  },
  {
   "cell_type": "code",
   "execution_count": 27,
   "id": "9db6090c",
   "metadata": {},
   "outputs": [
    {
     "name": "stdout",
     "output_type": "stream",
     "text": [
      "         *          \n",
      "        * *         \n",
      "       *   *        \n",
      "      *     *       \n",
      "     *       *      \n",
      "    ***********     \n"
     ]
    }
   ],
   "source": [
    "#####37.\n",
    "for i in range(1,6*2,2):\n",
    "    if i==6*2-1 or i==1:\n",
    "        string=i*\"*\"\n",
    "        \n",
    "    else:\n",
    "        string=\"*\"+(i-2)*\" \"+\"*\"\n",
    "    print(string.center(20,\" \"))\n",
    "        "
   ]
  },
  {
   "cell_type": "code",
   "execution_count": 29,
   "id": "e27f429e",
   "metadata": {},
   "outputs": [
    {
     "name": "stdout",
     "output_type": "stream",
     "text": [
      "    ***********     \n",
      "     *       *      \n",
      "      *     *       \n",
      "       *   *        \n",
      "        * *         \n",
      "         *          \n"
     ]
    }
   ],
   "source": [
    "####38.\n",
    "for i in range(1,6*2,2):\n",
    "    if i==6*2-1 or i==1:\n",
    "        string=(6*2-i)*\"*\"\n",
    "        \n",
    "    else:\n",
    "        string=\"*\"+(6*2-i-2)*\" \"+\"*\"\n",
    "    print(string.center(20,\" \"))\n",
    "        \n",
    "    "
   ]
  },
  {
   "cell_type": "code",
   "execution_count": 32,
   "id": "558ff960",
   "metadata": {},
   "outputs": [
    {
     "name": "stdout",
     "output_type": "stream",
     "text": [
      "         *          \n",
      "        * *         \n",
      "       *   *        \n",
      "      *     *       \n",
      "     *       *      \n",
      "    *         *     \n",
      "     *       *      \n",
      "      *     *       \n",
      "       *   *        \n",
      "        * *         \n",
      "         *          \n"
     ]
    }
   ],
   "source": [
    "#####39.\n",
    "for i in range(1,6*2,2):\n",
    "    if i==1:\n",
    "        string=i*\"*\"\n",
    "        print(string.center(20,\" \"))\n",
    "    elif i==6*2 -1:\n",
    "        for k in range(1,6*2,2):\n",
    "            if k == 6*2-1:\n",
    "                string=(6 * 2 - k ) * \"*\"\n",
    "                print(string.center(20,\" \"))\n",
    "                                                 \n",
    "            else:\n",
    "                string=\"*\" + (6*2 -k-2)*\" \" + \"*\"\n",
    "                print(string.center(20,\" \"))\n",
    "    else:\n",
    "        string=\"*\"+(i-2)*\" \"+\"*\"\n",
    "        print(string.center(20,\" \"))\n",
    "            "
   ]
  },
  {
   "cell_type": "code",
   "execution_count": 7,
   "id": "afb5823e",
   "metadata": {},
   "outputs": [
    {
     "name": "stdout",
     "output_type": "stream",
     "text": [
      "* * * * * * * * * \n",
      "  *           *   \n",
      "    *       *     \n",
      "      *   *       \n",
      "        *         \n",
      "      *   *       \n",
      "    *       *     \n",
      "  *           *   \n",
      "* * * * * * * * * \n"
     ]
    }
   ],
   "source": [
    "####40.\n",
    "n=9\n",
    "for i in range(n):\n",
    "    for j in range(n):\n",
    "        if(i==0 or i==j or i+j==n-1 or i==n-1):\n",
    "            print(\"*\",end=\" \")\n",
    "        else:\n",
    "            print(\" \",end=\" \")\n",
    "    print()\n",
    "        "
   ]
  },
  {
   "cell_type": "code",
   "execution_count": 40,
   "id": "20547ec5",
   "metadata": {},
   "outputs": [
    {
     "name": "stdout",
     "output_type": "stream",
     "text": [
      "*****\n",
      "*****\n",
      "*****\n",
      "*****\n",
      "*****\n"
     ]
    }
   ],
   "source": [
    "#####41.\n",
    "for i in range(5):\n",
    "    print(5*\"*\")"
   ]
  },
  {
   "cell_type": "code",
   "execution_count": null,
   "id": "f4f34bb8",
   "metadata": {},
   "outputs": [],
   "source": []
  },
  {
   "cell_type": "code",
   "execution_count": null,
   "id": "eae8dd19",
   "metadata": {},
   "outputs": [],
   "source": []
  }
 ],
 "metadata": {
  "kernelspec": {
   "display_name": "Python 3 (ipykernel)",
   "language": "python",
   "name": "python3"
  },
  "language_info": {
   "codemirror_mode": {
    "name": "ipython",
    "version": 3
   },
   "file_extension": ".py",
   "mimetype": "text/x-python",
   "name": "python",
   "nbconvert_exporter": "python",
   "pygments_lexer": "ipython3",
   "version": "3.9.12"
  }
 },
 "nbformat": 4,
 "nbformat_minor": 5
}
