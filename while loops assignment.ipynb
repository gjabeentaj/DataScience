{
 "cells": [
  {
   "cell_type": "code",
   "execution_count": 1,
   "id": "85f1dba1",
   "metadata": {},
   "outputs": [
    {
     "name": "stdout",
     "output_type": "stream",
     "text": [
      "\n",
      "1 \n",
      "1 2 \n",
      "1 2 3 \n",
      "1 2 3 4 \n",
      "1 2 3 4 5 \n"
     ]
    }
   ],
   "source": [
    "x=5                    #pattern_1\n",
    "i=0\n",
    "while i<=x:\n",
    "    j=1\n",
    "    while j<=i:\n",
    "        print((j),end=\" \")\n",
    "        j=j+1\n",
    "    print()\n",
    "    i=i+1"
   ]
  },
  {
   "cell_type": "code",
   "execution_count": 4,
   "id": "f0db8f49",
   "metadata": {},
   "outputs": [
    {
     "name": "stdout",
     "output_type": "stream",
     "text": [
      "A \n",
      "A B \n",
      "A B C \n",
      "A B C D \n",
      "A B C D E \n"
     ]
    }
   ],
   "source": [
    "i=1                  #patten_2\n",
    "x=5\n",
    "while i<=x:\n",
    "    j=1\n",
    "    while j<=i:\n",
    "        print(chr(64+j),end=\" \")\n",
    "        j=j+1\n",
    "    print()\n",
    "    i=i+1"
   ]
  },
  {
   "cell_type": "code",
   "execution_count": 3,
   "id": "bc450cd1",
   "metadata": {},
   "outputs": [
    {
     "name": "stdout",
     "output_type": "stream",
     "text": [
      "* \n",
      "* * \n",
      "* * * \n",
      "* * * * \n"
     ]
    }
   ],
   "source": [
    "x=4\n",
    "i=1\n",
    "while i<=x:\n",
    "    j=1\n",
    "    while j<=i:\n",
    "        print(\"*\",end=\" \")\n",
    "        j=j+1\n",
    "    print()\n",
    "    i=i+1"
   ]
  },
  {
   "cell_type": "code",
   "execution_count": 5,
   "id": "16ec10c5",
   "metadata": {},
   "outputs": [
    {
     "name": "stdout",
     "output_type": "stream",
     "text": [
      "1 \n",
      "2 2 \n",
      "3 3 3 \n",
      "4 4 4 4 \n",
      "5 5 5 5 5 \n"
     ]
    }
   ],
   "source": [
    "x = 5  #pattern_4\n",
    "i = 1\n",
    "while i <= x:\n",
    "    j = 1\n",
    "    while j <= i:\n",
    "        print(i, end=\" \")\n",
    "        j = j + 1\n",
    "    print()\n",
    "    i = i + 1"
   ]
  },
  {
   "cell_type": "code",
   "execution_count": 6,
   "id": "77e4f88e",
   "metadata": {},
   "outputs": [
    {
     "name": "stdout",
     "output_type": "stream",
     "text": [
      "A \n",
      "B B \n",
      "C C C \n",
      "D D D D \n",
      "E E E E E \n"
     ]
    }
   ],
   "source": [
    "i=1                          #pattern_5\n",
    "x=5\n",
    "while i<=x:\n",
    "    j=1\n",
    "    while j<=i:\n",
    "        print(chr(64+i),end=\" \")\n",
    "        j=j+1\n",
    "    print()\n",
    "    i=i+1"
   ]
  },
  {
   "cell_type": "code",
   "execution_count": 7,
   "id": "fdbfd919",
   "metadata": {},
   "outputs": [
    {
     "name": "stdout",
     "output_type": "stream",
     "text": [
      "         *\n",
      "       * *\n",
      "     * * *\n",
      "   * * * *\n"
     ]
    }
   ],
   "source": [
    "n=4\n",
    "i = 0\n",
    "while i<n:\n",
    "    k=(n-i)\n",
    "    while k>0:\n",
    "        print(\"  \", end=\"\")\n",
    "        k=k-1\n",
    "    j=i+1\n",
    "    while j>0:\n",
    "        print(\" *\",end=\"\")\n",
    "        j=j-1\n",
    "    print()\n",
    "    i=i+1"
   ]
  },
  {
   "cell_type": "code",
   "execution_count": 8,
   "id": "c33e45f7",
   "metadata": {},
   "outputs": [
    {
     "name": "stdout",
     "output_type": "stream",
     "text": [
      "  1 \n",
      " 1 2 \n",
      "1 2 3 \n",
      "1 2 3 4 \n",
      "1 2 3 4 5 \n"
     ]
    }
   ],
   "source": [
    "x=6           #pattern_7\n",
    "i=1\n",
    "while i<x:\n",
    "    k=(n-i)\n",
    "    while k>1:\n",
    "        print(\" \", end=\"\")\n",
    "        k=k-1\n",
    "    j=1\n",
    "    while j<=i:\n",
    "        print(j,end=\" \")\n",
    "        j=j+1\n",
    "    print()\n",
    "    i=i+1"
   ]
  },
  {
   "cell_type": "code",
   "execution_count": 9,
   "id": "96d64e87",
   "metadata": {},
   "outputs": [
    {
     "name": "stdout",
     "output_type": "stream",
     "text": [
      "      A \n",
      "     A B \n",
      "    A B C \n",
      "   A B C D \n",
      "  A B C D E \n"
     ]
    }
   ],
   "source": [
    "i=0               #pattern_9\n",
    "n=5\n",
    "while i<n:\n",
    "    print(\" \"*(n-i),end=\" \")\n",
    "    j=0\n",
    "    while j-1<i:\n",
    "        print(chr(65+j),end=\" \")\n",
    "        j=j+1\n",
    "    print()\n",
    "    i=i+1"
   ]
  },
  {
   "cell_type": "code",
   "execution_count": 10,
   "id": "826ea326",
   "metadata": {},
   "outputs": [
    {
     "name": "stdout",
     "output_type": "stream",
     "text": [
      "      E \n",
      "     E D \n",
      "    E D C \n",
      "   E D C B \n",
      "  E D C B A \n"
     ]
    }
   ],
   "source": [
    "i=0\n",
    "n=5\n",
    "while i<n:\n",
    "    print(\" \"*(n-i),end=\" \")\n",
    "    j=0\n",
    "    while j-1<i:\n",
    "        print(chr(69-j),end=\" \")\n",
    "        j=j+1\n",
    "    print()\n",
    "    i=i+1"
   ]
  },
  {
   "cell_type": "code",
   "execution_count": 11,
   "id": "fcff1bbc",
   "metadata": {},
   "outputs": [
    {
     "name": "stdout",
     "output_type": "stream",
     "text": [
      "     *      \n",
      "    ***     \n",
      "   *****    \n",
      "  *******   \n",
      " *********  \n"
     ]
    }
   ],
   "source": [
    "n=9\n",
    "i=1\n",
    "while i<=n:\n",
    "    v=str(i*\"*\")\n",
    "    print(v.center(12,\" \"))\n",
    "    i=i+2"
   ]
  },
  {
   "cell_type": "code",
   "execution_count": 12,
   "id": "909074e1",
   "metadata": {},
   "outputs": [
    {
     "name": "stdout",
     "output_type": "stream",
     "text": [
      "     1 \n",
      "    2 2 \n",
      "   3 3 3 \n",
      "  4 4 4 4 \n",
      " 5 5 5 5 5 \n"
     ]
    }
   ],
   "source": [
    "n=5                    #pattern_12\n",
    "i=1\n",
    "while i<=n:\n",
    "    print(\" \"*(n-i),end=\" \")\n",
    "    j=1\n",
    "    while j<=i:\n",
    "        print(i,end=\" \")\n",
    "        j=j+1\n",
    "    print()\n",
    "    i=i+1"
   ]
  },
  {
   "cell_type": "code",
   "execution_count": 13,
   "id": "01670758",
   "metadata": {},
   "outputs": [
    {
     "name": "stdout",
     "output_type": "stream",
     "text": [
      "      A \n",
      "     B B \n",
      "    C C C \n",
      "   D D D D \n",
      "  E E E E E \n"
     ]
    }
   ],
   "source": [
    "i=0            #pattern_13\n",
    "n=5\n",
    "while i<n:\n",
    "    print(\" \"*(n-i),end=\" \")\n",
    "    j=0\n",
    "    while j-1<i:\n",
    "        print(chr(65+i),end=\" \")\n",
    "        j=j+1\n",
    "    print()\n",
    "    i=i+1\n"
   ]
  },
  {
   "cell_type": "code",
   "execution_count": 14,
   "id": "7f4657af",
   "metadata": {},
   "outputs": [
    {
     "name": "stdout",
     "output_type": "stream",
     "text": [
      "1 2 3 4 5 \n",
      "1 2 3 4 \n",
      "1 2 3 \n",
      "1 2 \n",
      "1 \n",
      "\n"
     ]
    }
   ],
   "source": [
    "n=6                   #pattern_14\n",
    "i=1\n",
    "while i<=n:\n",
    "    j=n-1\n",
    "    while j>=i:\n",
    "        print((n-j),end=\" \")\n",
    "        j=j-1\n",
    "    print()\n",
    "    i=i+1"
   ]
  },
  {
   "cell_type": "code",
   "execution_count": 15,
   "id": "6857ff7e",
   "metadata": {},
   "outputs": [
    {
     "name": "stdout",
     "output_type": "stream",
     "text": [
      "5 4 3 2 1 \n",
      "5 4 3 2 \n",
      "5 4 3 \n",
      "5 4 \n",
      "5 \n"
     ]
    }
   ],
   "source": [
    "n=5                    #pattern_15\n",
    "i=1\n",
    "while i<=n:\n",
    "    j=n\n",
    "    while j>=i:\n",
    "        print((j),end=\" \")\n",
    "        j=j-1\n",
    "    print()\n",
    "    i=i+1"
   ]
  },
  {
   "cell_type": "code",
   "execution_count": 16,
   "id": "246e6c79",
   "metadata": {},
   "outputs": [
    {
     "name": "stdout",
     "output_type": "stream",
     "text": [
      "5 \n",
      "5 4 \n",
      "5 4 3 \n",
      "5 4 3 2 \n",
      "5 4 3 2 1 \n"
     ]
    }
   ],
   "source": [
    "x=6               #pattern_16\n",
    "i=1\n",
    "while i<x:\n",
    "    j=1\n",
    "    while j<=i:\n",
    "        print((x-j),end=\" \")\n",
    "        j=j+1\n",
    "    print()\n",
    "    i=i+1"
   ]
  },
  {
   "cell_type": "code",
   "execution_count": 17,
   "id": "5df76455",
   "metadata": {},
   "outputs": [
    {
     "name": "stdout",
     "output_type": "stream",
     "text": [
      "\n",
      "1 \n",
      "2 3 \n",
      "4 5 6 \n",
      "7 8 9 10 \n",
      "11 12 13 14 15 \n"
     ]
    }
   ],
   "source": [
    "n=6          #pattern_17\n",
    "i=1\n",
    "k=1\n",
    "while i<=n:\n",
    "    j=1\n",
    "    while j<i:\n",
    "        print(k,end=\" \")\n",
    "        j=j+1\n",
    "        k=k+1\n",
    "    print()\n",
    "    i=i+1"
   ]
  },
  {
   "cell_type": "code",
   "execution_count": 18,
   "id": "4713f1f8",
   "metadata": {},
   "outputs": [
    {
     "name": "stdout",
     "output_type": "stream",
     "text": [
      "A B C D E \n",
      "A B C D \n",
      "A B C \n",
      "A B \n",
      "A \n"
     ]
    }
   ],
   "source": [
    "n=5                         #pattern_18\n",
    "i=1\n",
    "while i<=n:\n",
    "    j=n\n",
    "    while j>=i:\n",
    "        print(chr(70-j),end=\" \")\n",
    "        j=j-1\n",
    "    print()\n",
    "    i=i+1"
   ]
  },
  {
   "cell_type": "code",
   "execution_count": 19,
   "id": "a617dee9",
   "metadata": {},
   "outputs": [
    {
     "name": "stdout",
     "output_type": "stream",
     "text": [
      "         *\n",
      "       * *\n",
      "     * * *\n",
      "   * * * *\n"
     ]
    }
   ],
   "source": [
    "n=4\n",
    "i = 0\n",
    "while i<n:\n",
    "    k=(n-i)\n",
    "    while k>0:\n",
    "        print(\"  \", end=\"\")\n",
    "        k=k-1\n",
    "    j=i+1\n",
    "    while j>0:\n",
    "        print(\" *\",end=\"\")\n",
    "        j=j-1\n",
    "    print()\n",
    "    i=i+1"
   ]
  },
  {
   "cell_type": "code",
   "execution_count": 20,
   "id": "6e0a5ed1",
   "metadata": {},
   "outputs": [
    {
     "name": "stdout",
     "output_type": "stream",
     "text": [
      "*\n",
      "**\n",
      "***\n",
      "****\n",
      "*****\n",
      "****\n",
      "***\n",
      "**\n",
      "*\n"
     ]
    }
   ],
   "source": [
    "x=9\n",
    "i=1\n",
    "while x>=i:\n",
    "    if i==1 or i==2 or i==3 or i==4:\n",
    "        print((i)*\"*\")\n",
    "    elif i==5 or i==6 or i==7 or i==8 or i==9:\n",
    "        print(\"*\"*(11-(i+1)))\n",
    "    else:\n",
    "        print()\n",
    "    i=i+1"
   ]
  },
  {
   "cell_type": "code",
   "execution_count": 21,
   "id": "e9e5f03d",
   "metadata": {},
   "outputs": [
    {
     "name": "stdout",
     "output_type": "stream",
     "text": [
      "***** \n",
      "**** \n",
      "*** \n",
      "** \n",
      "* \n",
      "** \n",
      "*** \n",
      "**** \n",
      "***** \n"
     ]
    }
   ],
   "source": [
    "i=0\n",
    "n=8\n",
    "while i<=n:\n",
    "    if i==0:\n",
    "        print(\"*\"*(n-3)+\" \")\n",
    "    elif i==1 or i==2 or i==3:\n",
    "        print(\"*\"*(5-i)+\" \")\n",
    "    else:\n",
    "        print(\"*\"*(i-3)+\" \")\n",
    "    i=i+1"
   ]
  },
  {
   "cell_type": "code",
   "execution_count": 22,
   "id": "4db8f083",
   "metadata": {},
   "outputs": [
    {
     "name": "stdout",
     "output_type": "stream",
     "text": [
      "        *\n",
      "       **\n",
      "      ***\n",
      "     ****\n",
      "    *****\n",
      "     ****\n",
      "      ***\n",
      "       **\n",
      "        *\n"
     ]
    }
   ],
   "source": [
    "x=9\n",
    "i=1\n",
    "while x>=i:\n",
    "    if i==1 or i==2 or i==3 or i==4 :\n",
    "        print(\" \"*(x-i)+(i)*\"*\")\n",
    "    elif i==5 or i==6 or i==7 or i==8 or i==9:\n",
    "        print(\" \"*(i-1)+\"*\"*(10-i))\n",
    "    else:\n",
    "        print()\n",
    "    i=i+1"
   ]
  },
  {
   "cell_type": "code",
   "execution_count": 23,
   "id": "9a5106e8",
   "metadata": {},
   "outputs": [
    {
     "name": "stdout",
     "output_type": "stream",
     "text": [
      "     *      \n",
      "    ***     \n",
      "   *****    \n",
      "  *******   \n",
      " *********  \n"
     ]
    }
   ],
   "source": [
    "n=9\n",
    "i=1\n",
    "while i<=n:\n",
    "    v=str(i*\"*\")\n",
    "    print(v.center(12,\" \"))\n",
    "    i=i+2\n"
   ]
  },
  {
   "cell_type": "code",
   "execution_count": 24,
   "id": "db378326",
   "metadata": {},
   "outputs": [
    {
     "name": "stdout",
     "output_type": "stream",
     "text": [
      " *********  \n",
      "  *******   \n",
      "   *****    \n",
      "    ***     \n",
      "     *      \n",
      "    ***     \n",
      "   *****    \n",
      "  *******   \n",
      " *********  \n"
     ]
    }
   ],
   "source": [
    "n=1\n",
    "i=9\n",
    "while i>=n:\n",
    "    v=str(i*\"*\")\n",
    "    print(v.center(12,\" \"))\n",
    "    i=i-2\n",
    "    if i<=-1:\n",
    "        x=10\n",
    "        j=n+2\n",
    "        while j<=x:\n",
    "            y=str(j*\"*\")\n",
    "            print(y.center(12,\" \"))\n",
    "            j=j+2"
   ]
  },
  {
   "cell_type": "code",
   "execution_count": 25,
   "id": "18840d3c",
   "metadata": {},
   "outputs": [
    {
     "name": "stdout",
     "output_type": "stream",
     "text": [
      "*       *\n",
      "**     **\n",
      "***   ***\n",
      "**** ****\n",
      "*********\n"
     ]
    }
   ],
   "source": [
    "n=-1\n",
    "i=7\n",
    "while i>=n:\n",
    "    v=str(i*\" \")\n",
    "    print(v.center(9,\"*\"))\n",
    "    i=i-2"
   ]
  },
  {
   "cell_type": "code",
   "execution_count": 26,
   "id": "36c78c3b",
   "metadata": {},
   "outputs": [
    {
     "name": "stdout",
     "output_type": "stream",
     "text": [
      "*********\n",
      "**** ****\n",
      "***   ***\n",
      "**     **\n",
      "*       *\n"
     ]
    }
   ],
   "source": [
    "n=7\n",
    "i=-1\n",
    "while n>=i:\n",
    "    v=str(i*\" \")\n",
    "    print(v.center(9,\"*\"))\n",
    "    i=i+2"
   ]
  },
  {
   "cell_type": "code",
   "execution_count": 27,
   "id": "b7e97630",
   "metadata": {},
   "outputs": [
    {
     "name": "stdout",
     "output_type": "stream",
     "text": [
      "*       *\n",
      "**     **\n",
      "***   ***\n",
      "**** ****\n",
      "*********\n",
      "**** ****\n",
      "***   ***\n",
      "**     **\n",
      "*       *\n"
     ]
    }
   ],
   "source": [
    "n=-1\n",
    "i=7\n",
    "while i>=n:\n",
    "    v=str(i*\" \")\n",
    "    print(v.center(9,\"*\"))\n",
    "    i=i-2\n",
    "    if i<=-2:\n",
    "        x=7\n",
    "        j=1\n",
    "        while j<=x:\n",
    "            y=str(j*\" \")\n",
    "            print(y.center(9,\"*\"))\n",
    "            j=j+2"
   ]
  },
  {
   "cell_type": "code",
   "execution_count": 28,
   "id": "be924928",
   "metadata": {},
   "outputs": [
    {
     "name": "stdout",
     "output_type": "stream",
     "text": [
      "*********\n",
      "**** ****\n",
      "***   ***\n",
      "**     **\n",
      "*       *\n",
      "*       *\n",
      "**     **\n",
      "***   ***\n",
      "**** ****\n",
      "*********\n"
     ]
    }
   ],
   "source": [
    "n=7\n",
    "i=-1\n",
    "while i<=n:\n",
    "    v=str(i*\" \")\n",
    "    print(v.center(9,\"*\"))\n",
    "    i=i+2\n",
    "    if i==9:\n",
    "        j=7\n",
    "        x=-1\n",
    "        while j>=x:\n",
    "            y=str(j*\" \")\n",
    "            print(y.center(9,\"*\"))\n",
    "            j=j-2"
   ]
  },
  {
   "cell_type": "code",
   "execution_count": 29,
   "id": "3dd84059",
   "metadata": {},
   "outputs": [
    {
     "name": "stdout",
     "output_type": "stream",
     "text": [
      "*\n",
      "**\n",
      "* *\n",
      "*  *\n",
      "*****\n"
     ]
    }
   ],
   "source": [
    "i=1\n",
    "x=4\n",
    "while i<=x+1:\n",
    "    if i<=2 or i==5:\n",
    "        print((i)*\"*\")\n",
    "    else:\n",
    "        print(\"*\"+(i-2)*\" \"+\"*\")\n",
    "    i=i+1\n",
    "    "
   ]
  },
  {
   "cell_type": "code",
   "execution_count": 30,
   "id": "d414c220",
   "metadata": {},
   "outputs": [
    {
     "name": "stdout",
     "output_type": "stream",
     "text": [
      "*****\n",
      "*  *\n",
      "* *\n",
      "**\n",
      "*"
     ]
    }
   ],
   "source": [
    "i=2\n",
    "x=5\n",
    "while i<=x:\n",
    "    if i==2:\n",
    "        print(x*\"*\")\n",
    "    else:\n",
    "        print((x-i)*\" \"+\"*\")\n",
    "    i=i+1\n",
    "    print(end=\"*\")"
   ]
  },
  {
   "cell_type": "code",
   "execution_count": 31,
   "id": "0c892d18",
   "metadata": {},
   "outputs": [
    {
     "name": "stdout",
     "output_type": "stream",
     "text": [
      "*****\n",
      "*  *\n",
      "* *\n",
      "**\n",
      "*\n",
      "**\n",
      "* *\n",
      "*  *\n",
      "*****\n"
     ]
    }
   ],
   "source": [
    "n=9\n",
    "i=1\n",
    "while i<=n:\n",
    "    if i==2 or i==3 or i==4:\n",
    "        print(\"*\"+\" \"*(n-(i+5))+\"*\")\n",
    "    elif i==1 or i==9:\n",
    "        print(\"*\"*(5))\n",
    "    elif i==5:\n",
    "        print(\"*\")\n",
    "    else:\n",
    "        print(\"*\"+\" \"*(i-6)+\"*\")\n",
    "    i=i+1"
   ]
  },
  {
   "cell_type": "code",
   "execution_count": 32,
   "id": "bec88981",
   "metadata": {},
   "outputs": [
    {
     "name": "stdout",
     "output_type": "stream",
     "text": [
      "   *****\n",
      "    *  *\n",
      "     * *\n",
      "      **\n",
      "       *\n",
      "      **\n",
      "     * *\n",
      "    *  *\n",
      "   *****\n"
     ]
    }
   ],
   "source": [
    "n=9\n",
    "i=1\n",
    "while i<=n:\n",
    "    if i==2 or i==3 or i==4:\n",
    "        print(\" \"*(i+2)+\"*\"+(4-i)*\" \"+\"*\")\n",
    "    elif i==1:\n",
    "        print(\" \"*(4-i)+\"*\"*(n-4))\n",
    "    elif i==5:\n",
    "        print(\" \"*(7)+\"*\")\n",
    "    elif i==6 or i==7 or i==8:\n",
    "        print(\" \"*(n-(i-3))+\"*\"+\" \"*(i-6)+\"*\")\n",
    "    elif i==9:\n",
    "        print(\" \"*(3)+\"*\"*5)\n",
    "    else:\n",
    "        print()\n",
    "    i=i+1\n",
    "    "
   ]
  },
  {
   "cell_type": "code",
   "execution_count": 33,
   "id": "20ccf501",
   "metadata": {},
   "outputs": [
    {
     "name": "stdout",
     "output_type": "stream",
     "text": [
      "     *\n",
      "    * *\n",
      "   *   *\n",
      "  *     *\n",
      " * * * * *\n"
     ]
    }
   ],
   "source": [
    "i=0\n",
    "n=5\n",
    "while i<5:\n",
    "    if i==0:\n",
    "        print(\" \"*(n-i)+\"*\")\n",
    "    elif i==4:\n",
    "        print(\" *\"*(i+1))\n",
    "    else:\n",
    "        print(\" \"*(4-i)+\" *\"+\" \"*((i*2)-1)+\"*\")\n",
    "    i=i+1"
   ]
  },
  {
   "cell_type": "code",
   "execution_count": 34,
   "id": "b4793506",
   "metadata": {},
   "outputs": [
    {
     "name": "stdout",
     "output_type": "stream",
     "text": [
      " * * * * *\n",
      "  *     *\n",
      "   *   *\n",
      "    * *\n",
      "     *\n"
     ]
    }
   ],
   "source": [
    "i=0\n",
    "n=5\n",
    "while i<5:\n",
    "    if i==0:\n",
    "        print(\" *\"*(n))\n",
    "    elif i==4:\n",
    "        print(\" \"*i+\" *\")\n",
    "    else:\n",
    "        print(\" \"*(i+1)+\"*\"+\" \"*(((4-i)*2-1))+\"*\")\n",
    "    i=i+1"
   ]
  },
  {
   "cell_type": "code",
   "execution_count": 35,
   "id": "e2b9f75d",
   "metadata": {},
   "outputs": [
    {
     "name": "stdout",
     "output_type": "stream",
     "text": [
      "     *\n",
      "    * *\n",
      "   *   *\n",
      "  *     *\n",
      " *       * \n",
      "  *     * \n",
      "   *   * \n",
      "    * * \n",
      "     *\n"
     ]
    }
   ],
   "source": [
    "i=0\n",
    "n=9\n",
    "while i<n:\n",
    "    if i==0:\n",
    "        print(\" \"*(n-4)+\"*\")\n",
    "    elif i==1 or i==2 or i==3:\n",
    "        print(\" \"*(4-i)+\" *\"+\" \"*((i*2)-1)+\"*\")\n",
    "    elif i==8:\n",
    "        print(\" \"*(i-3)+\"*\")\n",
    "    else:\n",
    "        print(\" \"*(i-3)+\"*\"+\" \"*((8-i)*2-1)+\"* \")\n",
    "    i=i+1"
   ]
  },
  {
   "cell_type": "code",
   "execution_count": 36,
   "id": "dc010ea1",
   "metadata": {},
   "outputs": [
    {
     "name": "stdout",
     "output_type": "stream",
     "text": [
      "**********\n",
      " *      *\n",
      "  *    *\n",
      "   *  *\n",
      "     *\n",
      "   *  *\n",
      "  *    *\n",
      " *      *\n",
      "**********\n"
     ]
    }
   ],
   "source": [
    "n=9\n",
    "i=1\n",
    "while i<=n:\n",
    "    if i==1 or i==9:\n",
    "        print(\"*\"*(n+1))\n",
    "    elif i==2 or i==3  or i==4:\n",
    "        print(\" \"*(i-1)+\"*\"+\"  \"*(5-i)+\"*\")\n",
    "    elif i==5:\n",
    "        print(\" \"*(i)+\"*\")\n",
    "    else:\n",
    "        print(\" \"*(n-i)+\"*\"+\"  \"*(i-5)+\"*\")\n",
    "    i=i+1"
   ]
  },
  {
   "cell_type": "code",
   "execution_count": 37,
   "id": "29d4acc9",
   "metadata": {},
   "outputs": [
    {
     "name": "stdout",
     "output_type": "stream",
     "text": [
      "******\n",
      "******\n",
      "******\n",
      "******\n",
      "******\n"
     ]
    }
   ],
   "source": [
    "n=6\n",
    "i=1\n",
    "while i<=n:\n",
    "    if i==1 or i==2 or i==3 or i==4 or i==6:\n",
    "        print(\"*\"*n)\n",
    "    i=i+1\n"
   ]
  },
  {
   "cell_type": "code",
   "execution_count": null,
   "id": "293743e1",
   "metadata": {},
   "outputs": [],
   "source": []
  },
  {
   "cell_type": "code",
   "execution_count": null,
   "id": "00855b9a",
   "metadata": {},
   "outputs": [],
   "source": []
  },
  {
   "cell_type": "code",
   "execution_count": null,
   "id": "a1ecc376",
   "metadata": {},
   "outputs": [],
   "source": []
  },
  {
   "cell_type": "code",
   "execution_count": null,
   "id": "87b7819d",
   "metadata": {},
   "outputs": [],
   "source": []
  }
 ],
 "metadata": {
  "kernelspec": {
   "display_name": "Python 3 (ipykernel)",
   "language": "python",
   "name": "python3"
  },
  "language_info": {
   "codemirror_mode": {
    "name": "ipython",
    "version": 3
   },
   "file_extension": ".py",
   "mimetype": "text/x-python",
   "name": "python",
   "nbconvert_exporter": "python",
   "pygments_lexer": "ipython3",
   "version": "3.9.12"
  }
 },
 "nbformat": 4,
 "nbformat_minor": 5
}
